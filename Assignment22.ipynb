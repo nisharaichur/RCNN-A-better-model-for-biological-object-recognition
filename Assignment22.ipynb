{
 "cells": [
  {
   "cell_type": "code",
   "execution_count": 1,
   "metadata": {},
   "outputs": [],
   "source": [
    "import scipy.io.wavfile as sio\n",
    "import numpy as np\n",
    "from statistics import mean,variance\n",
    "import matplotlib.pyplot as plt"
   ]
  },
  {
   "cell_type": "code",
   "execution_count": 1,
   "metadata": {},
   "outputs": [
    {
     "data": {
      "text/plain": [
       "0.01"
      ]
     },
     "execution_count": 1,
     "metadata": {},
     "output_type": "execute_result"
    }
   ],
   "source": [
    "import math\n",
    "\n",
    "\n",
    "10/1000\n"
   ]
  },
  {
   "cell_type": "code",
   "execution_count": 3,
   "metadata": {},
   "outputs": [
    {
     "name": "stdout",
     "output_type": "stream",
     "text": [
      "16000\n"
     ]
    }
   ],
   "source": [
    "[rate,data]=sio.read(\"Train.wav\")\n",
    "print(rate)"
   ]
  },
  {
   "cell_type": "code",
   "execution_count": 4,
   "metadata": {},
   "outputs": [
    {
     "data": {
      "text/plain": [
       "(35509,)"
      ]
     },
     "execution_count": 4,
     "metadata": {},
     "output_type": "execute_result"
    }
   ],
   "source": [
    "data=list(data)\n",
    "for i in range(len(data)):\n",
    "    if data[i]<0:\n",
    "        data[i]=data[i]/abs(min(data))\n",
    "    else:\n",
    "        data[i]=data[i]/abs(max(data))\n",
    "        \n",
    "        \n",
    "data=np.array(data)\n",
    "data.shape"
   ]
  },
  {
   "cell_type": "code",
   "execution_count": null,
   "metadata": {},
   "outputs": [],
   "source": [
    "'''\n",
    "energies=[]\n",
    "for i in range(len(data)):\n",
    "    \n",
    "    if i<(len(data)-(window-1)):\n",
    "        for j in range(window):\n",
    "            total=total+(data[i+j]**2)\n",
    "    else:\n",
    "        \n",
    "        for k in range(window-decrement):\n",
    "            total=total+(data[i+k]**2)\n",
    "            decrement=decrement+1\n",
    "    energies.append(total)\n",
    "    total=0\n",
    "'''\n",
    "\n",
    "len(data)"
   ]
  },
  {
   "cell_type": "code",
   "execution_count": 5,
   "metadata": {},
   "outputs": [],
   "source": [
    "window=160\n",
    "temp=window\n",
    "nenergies=(len(data)-(window-1))\n",
    "\n",
    "total=0\n",
    "decrement=1"
   ]
  },
  {
   "cell_type": "code",
   "execution_count": 6,
   "metadata": {},
   "outputs": [],
   "source": [
    "energies=[]\n",
    "for i in range(len(data)):\n",
    "    for j in range(window):\n",
    "        total=total+(data[min((i+j),len(data)-1)]**2)\n",
    "    energies.append(total)\n",
    "    total=0"
   ]
  },
  {
   "cell_type": "code",
   "execution_count": null,
   "metadata": {},
   "outputs": [],
   "source": []
  },
  {
   "cell_type": "code",
   "execution_count": 10,
   "metadata": {},
   "outputs": [],
   "source": [
    "silence = np.zeros(len(data), bool)\n"
   ]
  },
  {
   "cell_type": "code",
   "execution_count": 11,
   "metadata": {},
   "outputs": [
    {
     "data": {
      "text/plain": [
       "array([ True,  True,  True, ...,  True,  True,  True])"
      ]
     },
     "execution_count": 11,
     "metadata": {},
     "output_type": "execute_result"
    }
   ],
   "source": [
    "silence[0:1514]=1\n",
    "silence[11449:12279]=1\n",
    "silence[14830:15618]=1\n",
    "silence[25657:22611]=1\n",
    "silence[33953:35509]=1\n",
    "silence"
   ]
  },
  {
   "cell_type": "code",
   "execution_count": 12,
   "metadata": {},
   "outputs": [
    {
     "name": "stdout",
     "output_type": "stream",
     "text": [
      "0.13202286744205693\n",
      "0.8679771325579431\n"
     ]
    }
   ],
   "source": [
    "countSilence=np.sum(silence)\n",
    "countSilence\n",
    "countVoice=(silence.size-countSilence)\n",
    "\n",
    "priorSilence=(countSilence/silence.size)\n",
    "priorVoice=1-priorSilence\n",
    "print(priorSilence)\n",
    "print(priorVoice)\n"
   ]
  },
  {
   "cell_type": "code",
   "execution_count": 13,
   "metadata": {},
   "outputs": [],
   "source": [
    "def Average(lst): \n",
    "    return sum(lst) / len(lst) \n",
    "\n"
   ]
  },
  {
   "cell_type": "code",
   "execution_count": 14,
   "metadata": {},
   "outputs": [],
   "source": [
    "def normpdf(x, mean, sd):\n",
    "    var = float(sd)**2\n",
    "    denom = (2*math.pi*var)**.5\n",
    "    num = math.exp(-(float(x)-float(mean))**2/(2*var))\n",
    "    return num/denom"
   ]
  },
  {
   "cell_type": "code",
   "execution_count": null,
   "metadata": {},
   "outputs": [],
   "source": [
    "newSilenceList=[energies[i] for i,x in enumerate(silence) if x == True]\n",
    "newSilence=np.array(newSilenceList)\n",
    "meanSilence=newSilence.mean()\n",
    "varSilence=newSilence.var()\n",
    "\n",
    "\n",
    "newVoice=[energies[i] for i,x in enumerate(silence) if x == False]\n",
    "\n",
    "meanVoice=Average(newVoice)\n",
    "\n",
    "len(newVoice)"
   ]
  },
  {
   "cell_type": "code",
   "execution_count": null,
   "metadata": {},
   "outputs": [],
   "source": [
    "from scipy.stats import norm\n",
    "import matplotlib.pyplot as plt\n",
    "from scipy.stats import norm\n",
    "from statistics import stdev \n",
    "silenceLik=[]\n",
    "voiceLik=[]\n",
    "for i in range(len(newVoice)):\n",
    "    voiceLik.append(norm(meanVoice,stdev(newVoice)).pdf(newVoice[i]))\n",
    "\n",
    "'''\n",
    "for i in range(len(newVoice)):\n",
    "    print(i)\n",
    "    voiceLik.append(normpdf(newVoice[i],meanVoice,stdev(newVoice)))\n",
    "'''\n",
    "\n",
    "plt.plot(VoiceLik)\n"
   ]
  },
  {
   "cell_type": "code",
   "execution_count": null,
   "metadata": {
    "scrolled": true
   },
   "outputs": [],
   "source": [
    "\n",
    "silencePdf=[]\n",
    "import matplotlib.pyplot as plt\n",
    "fig, ax = plt.subplots(1, 1)\n",
    "#ax.plot(newSilence,norm.pdf(newSilence),'r-', label='norm pdf')\n",
    "silenceLik=[]\n",
    "voiceLik=[]\n",
    "for i in range(len(newSilence)):\n",
    "    silenceLik.append(normpdf(newSilence[i],meanSilence,varSilence))\n",
    "    \n",
    "for i in range(len(newVoice)):\n",
    "    voiceLik.append(normpdf(newVoice[i],meanVoice,varVoice))\n",
    "ax.plot(voiceLik,'g-', label='norm pdf')\n",
    "ax.plot(silenceLik,'r-', label='norm pdf')"
   ]
  },
  {
   "cell_type": "code",
   "execution_count": null,
   "metadata": {},
   "outputs": [],
   "source": [
    "newSilence.size\n",
    "newVoice.size"
   ]
  },
  {
   "cell_type": "code",
   "execution_count": null,
   "metadata": {
    "scrolled": true
   },
   "outputs": [],
   "source": [
    "plt.plot(energies)"
   ]
  },
  {
   "cell_type": "code",
   "execution_count": null,
   "metadata": {},
   "outputs": [],
   "source": []
  },
  {
   "cell_type": "code",
   "execution_count": null,
   "metadata": {},
   "outputs": [],
   "source": []
  },
  {
   "cell_type": "code",
   "execution_count": null,
   "metadata": {},
   "outputs": [],
   "source": []
  },
  {
   "cell_type": "code",
   "execution_count": null,
   "metadata": {},
   "outputs": [],
   "source": []
  },
  {
   "cell_type": "code",
   "execution_count": null,
   "metadata": {},
   "outputs": [],
   "source": []
  }
 ],
 "metadata": {
  "kernelspec": {
   "display_name": "Python 3",
   "language": "python",
   "name": "python3"
  },
  "language_info": {
   "codemirror_mode": {
    "name": "ipython",
    "version": 3
   },
   "file_extension": ".py",
   "mimetype": "text/x-python",
   "name": "python",
   "nbconvert_exporter": "python",
   "pygments_lexer": "ipython3",
   "version": "3.6.8"
  }
 },
 "nbformat": 4,
 "nbformat_minor": 2
}
